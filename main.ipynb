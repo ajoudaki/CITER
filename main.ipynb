{
 "cells": [
  {
   "cell_type": "code",
   "execution_count": null,
   "id": "3bb9402b-e160-4eb9-9ba2-e67bda839fe8",
   "metadata": {},
   "outputs": [],
   "source": [
    "from citation_mathcer import ExperimentConfig, Experiment\n",
    "import numpy as np\n",
    "from torch.utils.data import DataLoader, Dataset\n",
    "\n",
    "\n",
    "\n",
    "config = ExperimentConfig(\n",
    "    project_name=\"citation-matching\",\n",
    "    model_name=\"FacebookAI/roberta-base\",\n",
    "    run_name=None,\n",
    "    checkpoint_dir=\"./checkpoints\",\n",
    "    checkpoint_every=100,\n",
    "    seed=42,\n",
    "    collate_sample_size=None,\n",
    "    batch_size=270,\n",
    "    initial_logit_scale=np.log(1/0.07),\n",
    "    train_ratio=.9,\n",
    "    learning_rate=1e-4,\n",
    "    logits_learning_rate=1e-2,\n",
    "    max_grad_norm=0.5\n",
    ")\n",
    "\n",
    "experiment = Experiment(config)\n",
    "results = experiment.get_results(cache_path='./cache/tokenized_1caf5def_eb27a5477eaa3d549aebc4886f3717d1.pt')\n",
    "\n",
    "# Train from scratch\n",
    "trained_model = train_citation_model(experiment, results)\n",
    "\n",
    "# # Or resume from checkpoint\n",
    "# config.resume_from = \"checkpoints/citation-matching/feasible-pine-64/checkpoint-step-60.pt\"\n",
    "# experiment = Experiment(config)\n",
    "# trained_model = train_citation_model(experiment, results)"
   ]
  },
  {
   "cell_type": "code",
   "execution_count": null,
   "id": "0b5cd4d7-49b8-4c0f-b735-a34eb61912a5",
   "metadata": {},
   "outputs": [],
   "source": [
    "tokenizer = experiment.get_tokenizer()\n",
    "collated = collate(results, tokenizer, config)\n",
    "dataset = CitationDataset(collated)\n",
    "\n",
    "# Create train/val split\n",
    "indices = np.arange(len(dataset))\n",
    "train_size = int(len(dataset) * config.train_ratio)\n",
    "train_indices = indices[:train_size]\n",
    "val_indices = indices[train_size:]\n",
    "\n",
    "from torch.utils.data import Subset\n",
    "train_dataset = Subset(dataset, train_indices)\n",
    "val_dataset = Subset(dataset, val_indices)\n",
    "\n",
    "# Create dataloaders\n",
    "generator = torch.Generator()\n",
    "generator.manual_seed(config.seed + 0)\n",
    "\n",
    "\n"
   ]
  },
  {
   "cell_type": "code",
   "execution_count": null,
   "id": "cd32a556",
   "metadata": {},
   "outputs": [],
   "source": [
    "dataloader = DataLoader(\n",
    "    dataset,\n",
    "    batch_size=config.batch_size,\n",
    "    shuffle=True,\n",
    "    num_workers=4,\n",
    "    pin_memory=True,\n",
    "    drop_last=True,\n",
    "    collate_fn=citation_collate_fn,\n",
    "    generator=generator\n",
    ")\n",
    "for bi,batch in enumerate(dataloader):\n",
    "    assert (batch['source_ids']==experiment.config.cite_token_id).sum()==batch['cited_art_ids'].shape[0]  # special cite tokens correspond to the cited article ids\n",
    "    assert (batch['cited_art_ids'].shape[0]==batch['labels'].shape[0])  # each cited article id has a corresponding target label\n",
    "    assert (batch['target_ids']==experiment.config.ref_token_id).sum()==batch['target_art_ids'].shape[0]  # special ref tokens correspond to the target article ids"
   ]
  },
  {
   "cell_type": "code",
   "execution_count": null,
   "id": "99aa5092",
   "metadata": {},
   "outputs": [],
   "source": [
    "(batch['target_ids']==experiment.config.ref_token_id).sum(), batch['target_art_ids'].shape[0], batch['labels'].shape  # special ref tokens correspond to the target article ids\n"
   ]
  },
  {
   "cell_type": "code",
   "execution_count": null,
   "id": "fdfc3867",
   "metadata": {},
   "outputs": [],
   "source": [
    "torch.where((batch['target_ids']==experiment.config.ref_token_id).sum(dim=1)==2)"
   ]
  },
  {
   "cell_type": "code",
   "execution_count": null,
   "id": "c66af130",
   "metadata": {},
   "outputs": [],
   "source": [
    "(batch['target_ids'][728,:]==experiment.config.ref_token_id)*1"
   ]
  },
  {
   "cell_type": "code",
   "execution_count": null,
   "id": "2d7bed06",
   "metadata": {},
   "outputs": [],
   "source": []
  },
  {
   "cell_type": "code",
   "execution_count": null,
   "id": "5fc72658",
   "metadata": {},
   "outputs": [],
   "source": []
  }
 ],
 "metadata": {
  "kernelspec": {
   "display_name": "Python 3",
   "language": "python",
   "name": "python3"
  },
  "language_info": {
   "codemirror_mode": {
    "name": "ipython",
    "version": 3
   },
   "file_extension": ".py",
   "mimetype": "text/x-python",
   "name": "python",
   "nbconvert_exporter": "python",
   "pygments_lexer": "ipython3",
   "version": "3.10.14"
  }
 },
 "nbformat": 4,
 "nbformat_minor": 5
}
