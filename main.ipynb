{
 "cells": [
  {
   "cell_type": "code",
   "execution_count": 1,
   "id": "e6e45919-7df5-473e-991b-8c2f6adfcedc",
   "metadata": {},
   "outputs": [
    {
     "name": "stderr",
     "output_type": "stream",
     "text": [
      "/home/amir/miniconda3/lib/python3.10/site-packages/tqdm/auto.py:21: TqdmWarning: IProgress not found. Please update jupyter and ipywidgets. See https://ipywidgets.readthedocs.io/en/stable/user_install.html\n",
      "  from .autonotebook import tqdm as notebook_tqdm\n",
      "/home/amir/miniconda3/lib/python3.10/site-packages/accelerate/accelerator.py:488: FutureWarning: `torch.cuda.amp.GradScaler(args...)` is deprecated. Please use `torch.amp.GradScaler('cuda', args...)` instead.\n",
      "  self.scaler = torch.cuda.amp.GradScaler(**kwargs)\n",
      "2024-11-20 15:19:31,243 - INFO - Loading articles from JSONL file...\n",
      "2024-11-20 15:19:35,343 - INFO - Loaded 237381 articles\n",
      "2024-11-20 15:19:35,343 - INFO - Preparing training data...\n",
      "2024-11-20 15:19:37,460 - INFO - Preparing validation data...\n",
      "/home/amir/miniconda3/lib/python3.10/site-packages/transformers/tokenization_utils_base.py:1617: FutureWarning: `clean_up_tokenization_spaces` was not set. It will be set to `True` by default. This behavior will be deprecated in transformers v4.45, and will be then set to `False` by default. For more details check this issue: https://github.com/huggingface/transformers/issues/31884\n",
      "  warnings.warn(\n",
      "Processing samples: 100%|██████████| 10/10 [01:13<00:00,  7.37s/batch]\n"
     ]
    },
    {
     "name": "stdout",
     "output_type": "stream",
     "text": [
      "\n",
      "Processed 6006 samples\n",
      "Skipped 3882 samples without citation\n"
     ]
    },
    {
     "name": "stderr",
     "output_type": "stream",
     "text": [
      "Processing samples: 100%|██████████| 70/70 [05:47<00:00,  4.97s/batch]\n",
      "2024-11-20 15:27:02,197 - INFO - Starting training...\n",
      "/home/amir/miniconda3/lib/python3.10/site-packages/accelerate/accelerator.py:488: FutureWarning: `torch.cuda.amp.GradScaler(args...)` is deprecated. Please use `torch.amp.GradScaler('cuda', args...)` instead.\n",
      "  self.scaler = torch.cuda.amp.GradScaler(**kwargs)\n"
     ]
    },
    {
     "name": "stdout",
     "output_type": "stream",
     "text": [
      "\n",
      "Processed 40189 samples\n",
      "Skipped 30698 samples without citation\n",
      "\n",
      "Epoch 1/10\n"
     ]
    },
    {
     "name": "stderr",
     "output_type": "stream",
     "text": [
      "Training: 100%|██████████| 188/188 [04:09<00:00,  1.32s/it]\n",
      "Validation: 100%|██████████| 1256/1256 [09:19<00:00,  2.24it/s]\n"
     ]
    },
    {
     "name": "stdout",
     "output_type": "stream",
     "text": [
      "\n",
      "Epoch 1 Summary:\n",
      "Training Loss: 0.6335\n",
      "Validation Loss: 0.7387\n",
      "Best Top-1 Accuracy: 0.1071\n",
      "Mean Reciprocal Rank: 0.1962\n",
      "Validation Size: 40189\n",
      "Top-1 Accuracy: 0.107\n",
      "Top-3 Accuracy: 0.218\n",
      "Top-5 Accuracy: 0.283\n",
      "Top-10 Accuracy: 0.378\n",
      "Top-50 Accuracy: 0.612\n",
      "Top-100 Accuracy: 0.707\n",
      "Top-1000 Accuracy: 0.926\n",
      "\n",
      "Epoch 2/10\n"
     ]
    },
    {
     "name": "stderr",
     "output_type": "stream",
     "text": [
      "Training: 100%|██████████| 188/188 [04:10<00:00,  1.33s/it]\n",
      "Validation:  53%|█████▎    | 664/1256 [04:57<04:24,  2.24it/s]"
     ]
    }
   ],
   "source": [
    "from utils import  main \n",
    "\n",
    "main(\"./configs/default_experiment.yaml\") "
   ]
  },
  {
   "cell_type": "code",
   "execution_count": null,
   "id": "3998296a",
   "metadata": {},
   "outputs": [],
   "source": []
  },
  {
   "cell_type": "code",
   "execution_count": null,
   "id": "051ba1cc-d1d3-4cf5-9fbb-e82f0e4186a5",
   "metadata": {},
   "outputs": [],
   "source": []
  },
  {
   "cell_type": "code",
   "execution_count": null,
   "id": "1bb302bc-5802-4f5d-959c-4bdf4c9acdb6",
   "metadata": {},
   "outputs": [],
   "source": []
  },
  {
   "cell_type": "code",
   "execution_count": null,
   "id": "790f27a2-64ab-4277-ad92-4dc3b610b132",
   "metadata": {},
   "outputs": [],
   "source": []
  }
 ],
 "metadata": {
  "kernelspec": {
   "display_name": "Python 3",
   "language": "python",
   "name": "python3"
  },
  "language_info": {
   "codemirror_mode": {
    "name": "ipython",
    "version": 3
   },
   "file_extension": ".py",
   "mimetype": "text/x-python",
   "name": "python",
   "nbconvert_exporter": "python",
   "pygments_lexer": "ipython3",
   "version": "3.10.14"
  }
 },
 "nbformat": 4,
 "nbformat_minor": 5
}
