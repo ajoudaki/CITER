{
 "cells": [
  {
   "cell_type": "code",
   "execution_count": 1,
   "id": "e6e45919-7df5-473e-991b-8c2f6adfcedc",
   "metadata": {},
   "outputs": [
    {
     "name": "stderr",
     "output_type": "stream",
     "text": [
      "/home/amir/miniconda3/lib/python3.10/site-packages/tqdm/auto.py:21: TqdmWarning: IProgress not found. Please update jupyter and ipywidgets. See https://ipywidgets.readthedocs.io/en/stable/user_install.html\n",
      "  from .autonotebook import tqdm as notebook_tqdm\n",
      "2024-11-10 20:03:26,734 - INFO - Loading articles from JSONL file...\n",
      "2024-11-10 20:03:30,895 - INFO - Loaded 237381 articles\n",
      "2024-11-10 20:03:30,895 - INFO - Preparing training data...\n",
      "2024-11-10 20:03:31,430 - INFO - Preparing validation data...\n",
      "/home/amir/miniconda3/lib/python3.10/site-packages/transformers/tokenization_utils_base.py:1617: FutureWarning: `clean_up_tokenization_spaces` was not set. It will be set to `True` by default. This behavior will be deprecated in transformers v4.45, and will be then set to `False` by default. For more details check this issue: https://github.com/huggingface/transformers/issues/31884\n",
      "  warnings.warn(\n",
      "Processing samples: 100%|██████████| 1/1 [00:05<00:00,  5.73s/batch]\n"
     ]
    },
    {
     "name": "stdout",
     "output_type": "stream",
     "text": [
      "\n",
      "Processed 597 samples\n",
      "Skipped 391 samples without citation\n"
     ]
    },
    {
     "name": "stderr",
     "output_type": "stream",
     "text": [
      "Processing samples: 100%|██████████| 1/1 [00:02<00:00,  2.47s/batch]\n",
      "2024-11-10 20:03:41,306 - INFO - Starting training...\n"
     ]
    },
    {
     "name": "stdout",
     "output_type": "stream",
     "text": [
      "\n",
      "Processed 329 samples\n",
      "Skipped 253 samples without citation\n",
      "\n",
      "Epoch 1/10\n"
     ]
    },
    {
     "name": "stderr",
     "output_type": "stream",
     "text": [
      "Training: 100%|██████████| 19/19 [00:24<00:00,  1.31s/it]\n",
      "Validation: 100%|██████████| 6/6 [00:04<00:00,  1.30it/s]\n"
     ]
    },
    {
     "name": "stdout",
     "output_type": "stream",
     "text": [
      "\n",
      "Epoch 1 Summary:\n",
      "Training Loss: 1.3512\n",
      "Validation Loss: 1.8687\n",
      "Best Top-1 Accuracy: 0.3191\n",
      "Mean Reciprocal Rank: 0.4891\n",
      "Validation Size: 329\n",
      "Top-1 Accuracy: 0.319\n",
      "Top-3 Accuracy: 0.584\n",
      "Top-5 Accuracy: 0.720\n",
      "Top-10 Accuracy: 0.836\n",
      "Top-50 Accuracy: 0.976\n",
      "\n",
      "Epoch 2/10\n"
     ]
    },
    {
     "name": "stderr",
     "output_type": "stream",
     "text": [
      "Training: 100%|██████████| 19/19 [00:24<00:00,  1.28s/it]\n",
      "Validation: 100%|██████████| 6/6 [00:04<00:00,  1.35it/s]\n"
     ]
    },
    {
     "name": "stdout",
     "output_type": "stream",
     "text": [
      "\n",
      "Epoch 2 Summary:\n",
      "Training Loss: 0.4912\n",
      "Validation Loss: 1.8665\n",
      "Best Top-1 Accuracy: 0.3040\n",
      "Mean Reciprocal Rank: 0.4830\n",
      "Validation Size: 329\n",
      "Top-1 Accuracy: 0.304\n",
      "Top-3 Accuracy: 0.596\n",
      "Top-5 Accuracy: 0.714\n",
      "Top-10 Accuracy: 0.839\n",
      "Top-50 Accuracy: 0.960\n",
      "\n",
      "Epoch 3/10\n"
     ]
    },
    {
     "name": "stderr",
     "output_type": "stream",
     "text": [
      "Training:  47%|████▋     | 9/19 [00:11<00:13,  1.31s/it]"
     ]
    }
   ],
   "source": [
    "from utils import  main \n",
    "\n",
    "main(config_path='./configs/default_experiment.yaml') "
   ]
  },
  {
   "cell_type": "code",
   "execution_count": null,
   "id": "3998296a",
   "metadata": {},
   "outputs": [],
   "source": []
  },
  {
   "cell_type": "code",
   "execution_count": null,
   "id": "051ba1cc-d1d3-4cf5-9fbb-e82f0e4186a5",
   "metadata": {},
   "outputs": [],
   "source": []
  },
  {
   "cell_type": "code",
   "execution_count": null,
   "id": "1bb302bc-5802-4f5d-959c-4bdf4c9acdb6",
   "metadata": {},
   "outputs": [],
   "source": []
  },
  {
   "cell_type": "code",
   "execution_count": null,
   "id": "790f27a2-64ab-4277-ad92-4dc3b610b132",
   "metadata": {},
   "outputs": [],
   "source": []
  }
 ],
 "metadata": {
  "kernelspec": {
   "display_name": "Python 3",
   "language": "python",
   "name": "python3"
  },
  "language_info": {
   "codemirror_mode": {
    "name": "ipython",
    "version": 3
   },
   "file_extension": ".py",
   "mimetype": "text/x-python",
   "name": "python",
   "nbconvert_exporter": "python",
   "pygments_lexer": "ipython3",
   "version": "3.10.14"
  }
 },
 "nbformat": 4,
 "nbformat_minor": 5
}
