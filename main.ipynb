{
 "cells": [
  {
   "cell_type": "code",
   "execution_count": 1,
   "id": "e6e45919-7df5-473e-991b-8c2f6adfcedc",
   "metadata": {},
   "outputs": [
    {
     "name": "stderr",
     "output_type": "stream",
     "text": [
      "/home/amir/miniconda3/lib/python3.10/site-packages/tqdm/auto.py:21: TqdmWarning: IProgress not found. Please update jupyter and ipywidgets. See https://ipywidgets.readthedocs.io/en/stable/user_install.html\n",
      "  from .autonotebook import tqdm as notebook_tqdm\n",
      "/home/amir/miniconda3/lib/python3.10/site-packages/accelerate/accelerator.py:488: FutureWarning: `torch.cuda.amp.GradScaler(args...)` is deprecated. Please use `torch.amp.GradScaler('cuda', args...)` instead.\n",
      "  self.scaler = torch.cuda.amp.GradScaler(**kwargs)\n",
      "2024-11-20 16:01:37,150 - INFO - Loading articles from JSONL file...\n",
      "2024-11-20 16:01:41,332 - INFO - Loaded 237381 articles\n",
      "2024-11-20 16:01:41,333 - INFO - Preparing training data...\n",
      "2024-11-20 16:01:43,558 - INFO - Preparing validation data...\n",
      "/home/amir/miniconda3/lib/python3.10/site-packages/transformers/tokenization_utils_base.py:1617: FutureWarning: `clean_up_tokenization_spaces` was not set. It will be set to `True` by default. This behavior will be deprecated in transformers v4.45, and will be then set to `False` by default. For more details check this issue: https://github.com/huggingface/transformers/issues/31884\n",
      "  warnings.warn(\n",
      "Processing samples:   0%|          | 0/10 [00:00<?, ?batch/s]Token indices sequence length is longer than the specified maximum sequence length for this model (1190 > 512). Running this sequence through the model will result in indexing errors\n",
      "Processing samples: 100%|██████████| 10/10 [01:16<00:00,  7.69s/batch]\n"
     ]
    },
    {
     "name": "stdout",
     "output_type": "stream",
     "text": [
      "\n",
      "Processed 6670 samples\n",
      "Skipped 3209 samples without citation\n"
     ]
    },
    {
     "name": "stderr",
     "output_type": "stream",
     "text": [
      "Processing samples: 100%|██████████| 11/11 [01:01<00:00,  5.58s/batch]\n",
      "2024-11-20 16:04:06,723 - INFO - Starting training...\n",
      "/home/amir/miniconda3/lib/python3.10/site-packages/accelerate/accelerator.py:488: FutureWarning: `torch.cuda.amp.GradScaler(args...)` is deprecated. Please use `torch.amp.GradScaler('cuda', args...)` instead.\n",
      "  self.scaler = torch.cuda.amp.GradScaler(**kwargs)\n"
     ]
    },
    {
     "name": "stdout",
     "output_type": "stream",
     "text": [
      "\n",
      "Processed 7300 samples\n",
      "Skipped 3607 samples without citation\n",
      "\n",
      "Epoch 1/10\n"
     ]
    },
    {
     "name": "stderr",
     "output_type": "stream",
     "text": [
      "Training: 100%|██████████| 209/209 [04:36<00:00,  1.32s/it]\n",
      "Validation: 100%|██████████| 115/115 [01:40<00:00,  1.14it/s]\n"
     ]
    },
    {
     "name": "stdout",
     "output_type": "stream",
     "text": [
      "\n",
      "Epoch 1 Summary:\n",
      "Training Loss: 0.6787\n",
      "Validation Loss: 1.1629\n",
      "Best Top-1 Accuracy: 0.2236\n",
      "Mean Reciprocal Rank: 0.3499\n",
      "Validation Size: 7300\n",
      "Top-1 Accuracy: 0.224\n",
      "Top-3 Accuracy: 0.407\n",
      "Top-5 Accuracy: 0.492\n",
      "Top-10 Accuracy: 0.603\n",
      "Top-50 Accuracy: 0.802\n",
      "Top-100 Accuracy: 0.867\n",
      "Top-1000 Accuracy: 0.982\n",
      "\n",
      "Epoch 2/10\n"
     ]
    },
    {
     "name": "stderr",
     "output_type": "stream",
     "text": [
      "Training: 100%|██████████| 209/209 [04:38<00:00,  1.33s/it]\n",
      "Validation: 100%|██████████| 115/115 [01:40<00:00,  1.14it/s]\n"
     ]
    },
    {
     "name": "stdout",
     "output_type": "stream",
     "text": [
      "\n",
      "Epoch 2 Summary:\n",
      "Training Loss: 0.3303\n",
      "Validation Loss: 1.1573\n",
      "Best Top-1 Accuracy: 0.2173\n",
      "Mean Reciprocal Rank: 0.3410\n",
      "Validation Size: 7300\n",
      "Top-1 Accuracy: 0.217\n",
      "Top-3 Accuracy: 0.401\n",
      "Top-5 Accuracy: 0.475\n",
      "Top-10 Accuracy: 0.584\n",
      "Top-50 Accuracy: 0.791\n",
      "Top-100 Accuracy: 0.861\n",
      "Top-1000 Accuracy: 0.979\n",
      "\n",
      "Epoch 3/10\n"
     ]
    },
    {
     "name": "stderr",
     "output_type": "stream",
     "text": [
      "Training: 100%|██████████| 209/209 [04:38<00:00,  1.33s/it]\n",
      "Validation: 100%|██████████| 115/115 [01:40<00:00,  1.14it/s]\n"
     ]
    },
    {
     "name": "stdout",
     "output_type": "stream",
     "text": [
      "\n",
      "Epoch 3 Summary:\n",
      "Training Loss: 0.2481\n",
      "Validation Loss: 1.2340\n",
      "Best Top-1 Accuracy: 0.2016\n",
      "Mean Reciprocal Rank: 0.3238\n",
      "Validation Size: 7300\n",
      "Top-1 Accuracy: 0.202\n",
      "Top-3 Accuracy: 0.376\n",
      "Top-5 Accuracy: 0.459\n",
      "Top-10 Accuracy: 0.569\n",
      "Top-50 Accuracy: 0.781\n",
      "Top-100 Accuracy: 0.858\n",
      "Top-1000 Accuracy: 0.975\n",
      "\n",
      "Epoch 4/10\n"
     ]
    },
    {
     "name": "stderr",
     "output_type": "stream",
     "text": [
      "Training: 100%|██████████| 209/209 [04:38<00:00,  1.33s/it]\n",
      "Validation: 100%|██████████| 115/115 [01:41<00:00,  1.14it/s]\n"
     ]
    },
    {
     "name": "stdout",
     "output_type": "stream",
     "text": [
      "\n",
      "Epoch 4 Summary:\n",
      "Training Loss: 0.1951\n",
      "Validation Loss: 1.2241\n",
      "Best Top-1 Accuracy: 0.1951\n",
      "Mean Reciprocal Rank: 0.3143\n",
      "Validation Size: 7300\n",
      "Top-1 Accuracy: 0.195\n",
      "Top-3 Accuracy: 0.360\n",
      "Top-5 Accuracy: 0.450\n",
      "Top-10 Accuracy: 0.555\n",
      "Top-50 Accuracy: 0.775\n",
      "Top-100 Accuracy: 0.849\n",
      "Top-1000 Accuracy: 0.974\n",
      "\n",
      "Epoch 5/10\n"
     ]
    },
    {
     "name": "stderr",
     "output_type": "stream",
     "text": [
      "Training: 100%|██████████| 209/209 [04:38<00:00,  1.33s/it]\n",
      "Validation: 100%|██████████| 115/115 [01:41<00:00,  1.14it/s]\n"
     ]
    },
    {
     "name": "stdout",
     "output_type": "stream",
     "text": [
      "\n",
      "Epoch 5 Summary:\n",
      "Training Loss: 0.1627\n",
      "Validation Loss: 1.2167\n",
      "Best Top-1 Accuracy: 0.1837\n",
      "Mean Reciprocal Rank: 0.3052\n",
      "Validation Size: 7300\n",
      "Top-1 Accuracy: 0.184\n",
      "Top-3 Accuracy: 0.353\n",
      "Top-5 Accuracy: 0.439\n",
      "Top-10 Accuracy: 0.554\n",
      "Top-50 Accuracy: 0.774\n",
      "Top-100 Accuracy: 0.850\n",
      "Top-1000 Accuracy: 0.976\n",
      "\n",
      "Epoch 6/10\n"
     ]
    },
    {
     "name": "stderr",
     "output_type": "stream",
     "text": [
      "Training: 100%|██████████| 209/209 [04:38<00:00,  1.33s/it]\n",
      "Validation: 100%|██████████| 115/115 [01:41<00:00,  1.14it/s]\n"
     ]
    },
    {
     "name": "stdout",
     "output_type": "stream",
     "text": [
      "\n",
      "Epoch 6 Summary:\n",
      "Training Loss: 0.1090\n",
      "Validation Loss: 1.1781\n",
      "Best Top-1 Accuracy: 0.2049\n",
      "Mean Reciprocal Rank: 0.3311\n",
      "Validation Size: 7300\n",
      "Top-1 Accuracy: 0.205\n",
      "Top-3 Accuracy: 0.383\n",
      "Top-5 Accuracy: 0.470\n",
      "Top-10 Accuracy: 0.587\n",
      "Top-50 Accuracy: 0.802\n",
      "Top-100 Accuracy: 0.870\n",
      "Top-1000 Accuracy: 0.975\n",
      "\n",
      "Epoch 7/10\n"
     ]
    },
    {
     "name": "stderr",
     "output_type": "stream",
     "text": [
      "Training: 100%|██████████| 209/209 [04:38<00:00,  1.33s/it]\n",
      "Validation: 100%|██████████| 115/115 [01:41<00:00,  1.14it/s]\n"
     ]
    },
    {
     "name": "stdout",
     "output_type": "stream",
     "text": [
      "\n",
      "Epoch 7 Summary:\n",
      "Training Loss: 0.0901\n",
      "Validation Loss: 1.2263\n",
      "Best Top-1 Accuracy: 0.2075\n",
      "Mean Reciprocal Rank: 0.3327\n",
      "Validation Size: 7300\n",
      "Top-1 Accuracy: 0.208\n",
      "Top-3 Accuracy: 0.385\n",
      "Top-5 Accuracy: 0.474\n",
      "Top-10 Accuracy: 0.586\n",
      "Top-50 Accuracy: 0.795\n",
      "Top-100 Accuracy: 0.862\n",
      "Top-1000 Accuracy: 0.974\n",
      "\n",
      "Epoch 8/10\n"
     ]
    },
    {
     "name": "stderr",
     "output_type": "stream",
     "text": [
      "Training: 100%|██████████| 209/209 [04:39<00:00,  1.33s/it]\n",
      "Validation: 100%|██████████| 115/115 [01:41<00:00,  1.14it/s]\n"
     ]
    },
    {
     "name": "stdout",
     "output_type": "stream",
     "text": [
      "\n",
      "Epoch 8 Summary:\n",
      "Training Loss: 0.0822\n",
      "Validation Loss: 1.2243\n",
      "Best Top-1 Accuracy: 0.2086\n",
      "Mean Reciprocal Rank: 0.3343\n",
      "Validation Size: 7300\n",
      "Top-1 Accuracy: 0.209\n",
      "Top-3 Accuracy: 0.388\n",
      "Top-5 Accuracy: 0.478\n",
      "Top-10 Accuracy: 0.587\n",
      "Top-50 Accuracy: 0.798\n",
      "Top-100 Accuracy: 0.867\n",
      "Top-1000 Accuracy: 0.973\n",
      "\n",
      "Epoch 9/10\n"
     ]
    },
    {
     "name": "stderr",
     "output_type": "stream",
     "text": [
      "Training: 100%|██████████| 209/209 [04:38<00:00,  1.33s/it]\n",
      "Validation: 100%|██████████| 115/115 [01:41<00:00,  1.14it/s]\n"
     ]
    },
    {
     "name": "stdout",
     "output_type": "stream",
     "text": [
      "\n",
      "Epoch 9 Summary:\n",
      "Training Loss: 0.0666\n",
      "Validation Loss: 1.1898\n",
      "Best Top-1 Accuracy: 0.2105\n",
      "Mean Reciprocal Rank: 0.3405\n",
      "Validation Size: 7300\n",
      "Top-1 Accuracy: 0.211\n",
      "Top-3 Accuracy: 0.399\n",
      "Top-5 Accuracy: 0.492\n",
      "Top-10 Accuracy: 0.598\n",
      "Top-50 Accuracy: 0.812\n",
      "Top-100 Accuracy: 0.874\n",
      "Top-1000 Accuracy: 0.974\n",
      "\n",
      "Epoch 10/10\n"
     ]
    },
    {
     "name": "stderr",
     "output_type": "stream",
     "text": [
      "Training: 100%|██████████| 209/209 [04:38<00:00,  1.33s/it]\n",
      "Validation: 100%|██████████| 115/115 [01:41<00:00,  1.14it/s]\n"
     ]
    },
    {
     "name": "stdout",
     "output_type": "stream",
     "text": [
      "\n",
      "Epoch 10 Summary:\n",
      "Training Loss: 0.0605\n",
      "Validation Loss: 1.2009\n",
      "Best Top-1 Accuracy: 0.2151\n",
      "Mean Reciprocal Rank: 0.3445\n",
      "Validation Size: 7300\n",
      "Top-1 Accuracy: 0.215\n",
      "Top-3 Accuracy: 0.404\n",
      "Top-5 Accuracy: 0.492\n",
      "Top-10 Accuracy: 0.594\n",
      "Top-50 Accuracy: 0.813\n",
      "Top-100 Accuracy: 0.875\n",
      "Top-1000 Accuracy: 0.974\n"
     ]
    },
    {
     "name": "stderr",
     "output_type": "stream",
     "text": [
      "2024-11-20 17:07:45,298 - INFO - Training completed. Results saved to experiments/default_experiment\n"
     ]
    },
    {
     "data": {
      "text/plain": [
       "[TrainingMetrics(train_loss=0.6787314951134641, val_loss=1.1628666989181353, top_k_accuracy={1: 0.22356164383561644, 3: 0.40657534246575344, 5: 0.4919178082191781, 10: 0.603013698630137, 50: 0.8024657534246575, 100: 0.8668493150684932, 1000: 0.9817808219178082}, mrr=0.3499411554768381, median_rank=6.0, mean_rank=87.36602739726027, val_size=7300),\n",
       " TrainingMetrics(train_loss=0.3303273018966451, val_loss=1.157349815575973, top_k_accuracy={1: 0.21726027397260275, 3: 0.4006849315068493, 5: 0.47534246575342465, 10: 0.5841095890410959, 50: 0.7912328767123288, 100: 0.8605479452054795, 1000: 0.9791780821917808}, mrr=0.34099420078059617, median_rank=6.0, mean_rank=98.24301369863014, val_size=7300),\n",
       " TrainingMetrics(train_loss=0.24807589508272243, val_loss=1.2340325671693553, top_k_accuracy={1: 0.20164383561643837, 3: 0.37643835616438354, 5: 0.4586301369863014, 10: 0.5693150684931507, 50: 0.7808219178082192, 100: 0.8580821917808219, 1000: 0.9749315068493151}, mrr=0.3238074096318598, median_rank=7.0, mean_rank=111.4913698630137, val_size=7300),\n",
       " TrainingMetrics(train_loss=0.19513643422480406, val_loss=1.2240665534268256, top_k_accuracy={1: 0.19506849315068492, 3: 0.36, 5: 0.44972602739726025, 10: 0.554931506849315, 50: 0.7750684931506849, 100: 0.8487671232876712, 1000: 0.9736986301369863}, mrr=0.31431344713122933, median_rank=7.0, mean_rank=115.90068493150685, val_size=7300),\n",
       " TrainingMetrics(train_loss=0.1626963508293104, val_loss=1.2167482334634532, top_k_accuracy={1: 0.1836986301369863, 3: 0.3527397260273973, 5: 0.43917808219178084, 10: 0.5542465753424658, 50: 0.773972602739726, 100: 0.8504109589041096, 1000: 0.976027397260274}, mrr=0.30521200091530176, median_rank=8.0, mean_rank=112.34219178082192, val_size=7300),\n",
       " TrainingMetrics(train_loss=0.10899470420777085, val_loss=1.178105336168538, top_k_accuracy={1: 0.20493150684931508, 3: 0.3826027397260274, 5: 0.47013698630136985, 10: 0.5873972602739727, 50: 0.8024657534246575, 100: 0.8701369863013698, 1000: 0.9747945205479452}, mrr=0.33113481158163416, median_rank=6.0, mean_rank=108.79205479452055, val_size=7300),\n",
       " TrainingMetrics(train_loss=0.09011817346081923, val_loss=1.2262533099754998, top_k_accuracy={1: 0.20753424657534247, 3: 0.38493150684931504, 5: 0.4736986301369863, 10: 0.586027397260274, 50: 0.7947945205479452, 100: 0.8624657534246576, 1000: 0.9735616438356164}, mrr=0.332722333450974, median_rank=6.0, mean_rank=120.77684931506849, val_size=7300),\n",
       " TrainingMetrics(train_loss=0.082211932425864, val_loss=1.2243312237055406, top_k_accuracy={1: 0.20863013698630137, 3: 0.38780821917808217, 5: 0.47835616438356166, 10: 0.5867123287671233, 50: 0.7982191780821918, 100: 0.8665753424657534, 1000: 0.9726027397260274}, mrr=0.3343111793663959, median_rank=6.0, mean_rank=125.2209589041096, val_size=7300),\n",
       " TrainingMetrics(train_loss=0.06660322059150875, val_loss=1.1898115112729695, top_k_accuracy={1: 0.21054794520547945, 3: 0.3991780821917808, 5: 0.49205479452054796, 10: 0.5984931506849315, 50: 0.8117808219178082, 100: 0.873972602739726, 1000: 0.9738356164383561}, mrr=0.34051222948077103, median_rank=6.0, mean_rank=123.31698630136987, val_size=7300),\n",
       " TrainingMetrics(train_loss=0.06048601747459273, val_loss=1.200866318008174, top_k_accuracy={1: 0.21506849315068494, 3: 0.4041095890410959, 5: 0.49205479452054796, 10: 0.5939726027397261, 50: 0.8131506849315069, 100: 0.8754794520547945, 1000: 0.9735616438356164}, mrr=0.3445028588392195, median_rank=6.0, mean_rank=127.4604109589041, val_size=7300)]"
      ]
     },
     "execution_count": 1,
     "metadata": {},
     "output_type": "execute_result"
    }
   ],
   "source": [
    "from utils import  main \n",
    "\n",
    "main(\"./configs/default_experiment.yaml\") "
   ]
  },
  {
   "cell_type": "code",
   "execution_count": null,
   "id": "3998296a",
   "metadata": {},
   "outputs": [],
   "source": []
  },
  {
   "cell_type": "code",
   "execution_count": null,
   "id": "051ba1cc-d1d3-4cf5-9fbb-e82f0e4186a5",
   "metadata": {},
   "outputs": [],
   "source": []
  },
  {
   "cell_type": "code",
   "execution_count": null,
   "id": "1bb302bc-5802-4f5d-959c-4bdf4c9acdb6",
   "metadata": {},
   "outputs": [],
   "source": []
  },
  {
   "cell_type": "code",
   "execution_count": null,
   "id": "790f27a2-64ab-4277-ad92-4dc3b610b132",
   "metadata": {},
   "outputs": [],
   "source": []
  }
 ],
 "metadata": {
  "kernelspec": {
   "display_name": "Python 3",
   "language": "python",
   "name": "python3"
  },
  "language_info": {
   "codemirror_mode": {
    "name": "ipython",
    "version": 3
   },
   "file_extension": ".py",
   "mimetype": "text/x-python",
   "name": "python",
   "nbconvert_exporter": "python",
   "pygments_lexer": "ipython3",
   "version": "3.10.14"
  }
 },
 "nbformat": 4,
 "nbformat_minor": 5
}
