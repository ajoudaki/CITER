{
 "cells": [
  {
   "cell_type": "code",
   "execution_count": null,
   "id": "59736dfb-20b3-4097-a6e1-305a09b49ce9",
   "metadata": {},
   "outputs": [],
   "source": [
    "from SAE import train_autoencoder\n",
    "\n",
    "if __name__ == \"__main__\":\n",
    "    sae, history = train_autoencoder(\n",
    "        dataset_name=\"wikitext\",\n",
    "        dataset_config=\"wikitext-103-raw-v1\",\n",
    "        model_name=\"meta-llama/Llama-3.2-1B\",\n",
    "        max_samples=3000,\n",
    "        num_epochs=50,\n",
    "        batch_size=16,\n",
    "        hidden_dim=5000,\n",
    "        val_split=0.2,\n",
    "        sparsity_lambda=100,\n",
    "    )"
   ]
  },
  {
   "cell_type": "code",
   "execution_count": null,
   "id": "1163f00e-ab16-45ee-ac86-1227c4af81a8",
   "metadata": {},
   "outputs": [],
   "source": [
    "vae"
   ]
  },
  {
   "cell_type": "code",
   "execution_count": null,
   "id": "a0081698-26aa-4c6c-9f61-9bd99d3453ae",
   "metadata": {},
   "outputs": [],
   "source": []
  }
 ],
 "metadata": {
  "kernelspec": {
   "display_name": "Python 3",
   "language": "python",
   "name": "python3"
  },
  "language_info": {
   "codemirror_mode": {
    "name": "ipython",
    "version": 3
   },
   "file_extension": ".py",
   "mimetype": "text/x-python",
   "name": "python",
   "nbconvert_exporter": "python",
   "pygments_lexer": "ipython3",
   "version": "3.10.14"
  }
 },
 "nbformat": 4,
 "nbformat_minor": 5
}
